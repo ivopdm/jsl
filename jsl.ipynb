{
 "cells": [
  {
   "cell_type": "markdown",
   "metadata": {},
   "source": [
    "### Import libraries"
   ]
  },
  {
   "cell_type": "code",
   "execution_count": 1,
   "metadata": {
    "collapsed": true
   },
   "outputs": [],
   "source": [
    "import pandas as pd\n",
    "import numpy as np\n",
    "import matplotlib.pyplot as plt\n",
    "import seaborn as sb\n",
    "import time\n",
    "\n",
    "from scipy import stats\n",
    "from sklearn.model_selection import train_test_split\n",
    "from sklearn import linear_model\n",
    "\n",
    "%matplotlib inline"
   ]
  },
  {
   "cell_type": "markdown",
   "metadata": {},
   "source": [
    "### Measure functions: Timing"
   ]
  },
  {
   "cell_type": "code",
   "execution_count": 2,
   "metadata": {
    "collapsed": true
   },
   "outputs": [],
   "source": [
    "def timing(function):\n",
    "    def wrap(*args):\n",
    "        startTime = time.time()\n",
    "        ret = function(*args)\n",
    "        endTime = time.time()\n",
    "        print ('%s function took %0.3f ms' % (function.__name__, (endTime-startTime)*1000.0))\n",
    "        return ret\n",
    "    return wrap"
   ]
  },
  {
   "cell_type": "markdown",
   "metadata": {},
   "source": [
    "### Machine Learning Model with Logistic Regression"
   ]
  },
  {
   "cell_type": "code",
   "execution_count": 42,
   "metadata": {
    "collapsed": true
   },
   "outputs": [],
   "source": [
    "class machineLearning:\n",
    "    \n",
    "    @timing\n",
    "    def fit(self, df):        \n",
    "        x1, y1 = correlation().calculateAxes(df)\n",
    "        \n",
    "        x1 = np.asarray(x1)\n",
    "        x1 = x1.reshape(-1, 1)\n",
    "\n",
    "        y1 = np.asarray(y1)\n",
    "        y1 = y1.reshape(-1, 1)\n",
    "\n",
    "        x_train, x_test, y_train, y_test = train_test_split(x1,y1, test_size=0.2, random_state=1)\n",
    "        \n",
    "        log = linear_model.LogisticRegression()        \n",
    "        \n",
    "        log.fit(x_train, y_train.ravel())\n",
    "        \n",
    "        y_pred = log.predict(x_test)\n",
    "        \n",
    "        print(\"Score Logistic Regression: \" + str(log.score(x_test, y_test)))\n",
    "        \n",
    "        return log\n",
    "    \n",
    "    @timing\n",
    "    def predict(self, df, X):        \n",
    "        model = self.fit(df)\n",
    "        return model.predict(X)"
   ]
  },
  {
   "cell_type": "markdown",
   "metadata": {},
   "source": [
    "### Correlation"
   ]
  },
  {
   "cell_type": "code",
   "execution_count": 43,
   "metadata": {
    "collapsed": true
   },
   "outputs": [],
   "source": [
    "class correlation:\n",
    "    # Calculate the axes values (x = length of word / y = count of related lemmas)\n",
    "    @timing\n",
    "    def calculateAxes(self, df):\n",
    "        x = []\n",
    "        y = []\n",
    "        \n",
    "        for row in df.values:\n",
    "            linha = [''.join(row[:1]), [x for x in row[1:] if x is not None and x != '']]\n",
    "            x.append(len(linha[0]))\n",
    "            y.append(len(linha[1]))\n",
    "\n",
    "        return x, y\n",
    "    \n",
    "    @timing\n",
    "    def calculateCorrelation(self, df):        \n",
    "        x, y = self.calculateAxes(df)\n",
    "\n",
    "        output = pd.DataFrame()\n",
    "        output['x'] = x\n",
    "        output['y'] = y\n",
    "\n",
    "        corr = output['x'].corr(output['y'])\n",
    "        return corr"
   ]
  },
  {
   "cell_type": "markdown",
   "metadata": {},
   "source": [
    "### API"
   ]
  },
  {
   "cell_type": "code",
   "execution_count": 44,
   "metadata": {
    "collapsed": true
   },
   "outputs": [],
   "source": [
    "class api:\n",
    "    # FileName = name of input file\n",
    "    # SeparatorWord = separator for word\n",
    "    # SeparatorLemmas = separator for lemmas\n",
    "    def __init__(self):\n",
    "        self.fileName = None\n",
    "        self.separatorWord = None\n",
    "        self.separatorLemmas = None\n",
    "\n",
    "    # Parse input file to Pandas DataFrame\n",
    "    @timing\n",
    "    def parseFile(self):\n",
    "        file = pd.DataFrame(line.strip().split(self.separatorWord) for line in open(self.fileName, 'r'))\n",
    "        file.columns = ['word', 'lemmas']\n",
    "\n",
    "        parsed = pd.DataFrame(file.lemmas.str.split(self.separatorLemmas).tolist(), file['word']).add_prefix('lemma_')\n",
    "        parsed.index.rename('word', inplace=True)\n",
    "        parsed.reset_index(inplace=True)\n",
    "\n",
    "        parsed['word'] = parsed['word'].str.strip()\n",
    "\n",
    "        return parsed\n",
    "    \n",
    "    @timing\n",
    "    def correlation(self):\n",
    "        df = self.parseFile()\n",
    "        return correlation().calculateCorrelation(df)\n",
    "    \n",
    "    @timing\n",
    "    def predictMachineLearning(self, X):\n",
    "        df = self.parseFile()\n",
    "        predict = machineLearning().predict(df, X)\n",
    "        return predict"
   ]
  },
  {
   "cell_type": "code",
   "execution_count": 60,
   "metadata": {
    "collapsed": true
   },
   "outputs": [],
   "source": [
    "test = api()"
   ]
  },
  {
   "cell_type": "code",
   "execution_count": 61,
   "metadata": {
    "collapsed": true
   },
   "outputs": [],
   "source": [
    "test.fileName = 'AntBNC_lemmas_ver_001.txt'\n",
    "test.separatorWord = '->'\n",
    "test.separatorLemmas = '\\t'"
   ]
  },
  {
   "cell_type": "code",
   "execution_count": 62,
   "metadata": {},
   "outputs": [
    {
     "name": "stdout",
     "output_type": "stream",
     "text": [
      "parseFile function took 203.012 ms\n",
      "calculateAxes function took 200.012 ms\n",
      "calculateCorrelation function took 228.014 ms\n",
      "correlation function took 436.025 ms\n",
      "Correlation between the length of a word and the number of lemmas it has: -0.287840963695\n"
     ]
    }
   ],
   "source": [
    "result = test.correlation()\n",
    "print('Correlation between the length of a word and the number of lemmas it has: ' + str(result))"
   ]
  },
  {
   "cell_type": "code",
   "execution_count": 48,
   "metadata": {},
   "outputs": [
    {
     "name": "stdout",
     "output_type": "stream",
     "text": [
      "parseFile function took 194.011 ms\n",
      "calculateAxes function took 200.011 ms\n",
      "Score Logistic Regression: 0.788970683198\n",
      "fit function took 388.022 ms\n",
      "predict function took 388.022 ms\n",
      "predictMachineLearning function took 588.033 ms\n",
      "New predict for word with lenght 6, number of lemmas is: [2]\n"
     ]
    }
   ],
   "source": [
    "print('New predict for word with lenght 6, number of lemmas is: ' + str(test.predictMachineLearning(6)))"
   ]
  },
  {
   "cell_type": "markdown",
   "metadata": {},
   "source": [
    "### Exploratory analysis"
   ]
  },
  {
   "cell_type": "code",
   "execution_count": 55,
   "metadata": {},
   "outputs": [
    {
     "name": "stdout",
     "output_type": "stream",
     "text": [
      "parseFile function took 218.012 ms\n",
      "calculateAxes function took 201.011 ms\n"
     ]
    }
   ],
   "source": [
    "df = test.parseFile()\n",
    "x, y = correlation().calculateAxes(df)\n",
    "del df # free memory"
   ]
  },
  {
   "cell_type": "code",
   "execution_count": 56,
   "metadata": {},
   "outputs": [
    {
     "data": {
      "text/plain": [
       "<matplotlib.axes._subplots.AxesSubplot at 0xf6832e8>"
      ]
     },
     "execution_count": 56,
     "metadata": {},
     "output_type": "execute_result"
    },
    {
     "data": {
      "image/png": "[encoded data removed]",
      "text/plain": [
       "<matplotlib.figure.Figure at 0x1078cb70>"
      ]
     },
     "metadata": {},
     "output_type": "display_data"
    }
   ],
   "source": [
    "sb.regplot(x=np.array(x), y=np.array(y))"
   ]
  },
  {
   "cell_type": "code",
   "execution_count": 57,
   "metadata": {},
   "outputs": [
    {
     "data": {
      "image/png": "[encoded data removed]",
      "text/plain": [
       "<matplotlib.figure.Figure at 0xd1accc0>"
      ]
     },
     "metadata": {},
     "output_type": "display_data"
    }
   ],
   "source": [
    "bubble = pd.DataFrame()\n",
    "bubble['x'] = x\n",
    "bubble['y'] = y\n",
    "bubble['c'] = 1\n",
    "bubble = bubble.groupby(['x', 'y'])['c'].sum().reset_index()\n",
    "\n",
    "fig = plt.figure(figsize=(20,5))\n",
    "plt.scatter(bubble['x'], bubble['y'], s=bubble['c']/3)\n",
    "plt.xlabel(\"Length of word\", fontsize=18)\n",
    "plt.ylabel(\"Number of lemmas\", fontsize=15)\n",
    "\n",
    "del bubble, fig # free memory"
   ]
  },
  {
   "cell_type": "code",
   "execution_count": 58,
   "metadata": {
    "collapsed": true
   },
   "outputs": [],
   "source": [
    "del test # free memory"
   ]
  }
 ],
 "metadata": {
  "kernelspec": {
   "display_name": "Python 3",
   "language": "python",
   "name": "python3"
  },
  "language_info": {
   "codemirror_mode": {
    "name": "ipython",
    "version": 3
   },
   "file_extension": ".py",
   "mimetype": "text/x-python",
   "name": "python",
   "nbconvert_exporter": "python",
   "pygments_lexer": "ipython3",
   "version": "3.6.3"
  }
 },
 "nbformat": 4,
 "nbformat_minor": 2
}
